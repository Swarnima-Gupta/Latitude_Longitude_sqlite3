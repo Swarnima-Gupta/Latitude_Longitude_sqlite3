{
 "cells": [
  {
   "cell_type": "code",
   "execution_count": 4,
   "metadata": {},
   "outputs": [],
   "source": [
    "import sqlite3"
   ]
  },
  {
   "cell_type": "code",
   "execution_count": 5,
   "metadata": {},
   "outputs": [
    {
     "name": "stdout",
     "output_type": "stream",
     "text": [
      "Opened database successfully\n"
     ]
    }
   ],
   "source": [
    "import sqlite3\n",
    "\n",
    "conn = sqlite3.connect('latlong.db')\n",
    "\n",
    "print(\"Opened database successfully\")"
   ]
  },
  {
   "cell_type": "code",
   "execution_count": 6,
   "metadata": {},
   "outputs": [
    {
     "name": "stdout",
     "output_type": "stream",
     "text": [
      "Opened database successfully\n",
      "Table created successfully\n"
     ]
    }
   ],
   "source": [
    "#Table creation\n",
    "import sqlite3\n",
    "\n",
    "conn = sqlite3.connect('latlong.db')\n",
    "print(\"Opened database successfully\")\n",
    "\n",
    "conn.execute('''CREATE TABLE LAT_LONG\n",
    "         (ID INT PRIMARY KEY     NOT NULL,\n",
    "         LOCATION           TEXT    NOT NULL,\n",
    "         LATITUDE            INT     NOT NULL,\n",
    "         LONGITUDE            INT     NOT NULL)''')\n",
    "print(\"Table created successfully\")\n",
    "\n",
    "conn.close()\n"
   ]
  },
  {
   "cell_type": "code",
   "execution_count": 9,
   "metadata": {},
   "outputs": [
    {
     "name": "stdout",
     "output_type": "stream",
     "text": [
      "Opened database successfully\n",
      "Records created successfully\n",
      "ID =  1\n",
      "LOCATION =  INDIA\n",
      "LATITUDE =  100.98\n",
      "LONGITUDE =  8992.3 \n",
      "\n",
      "ID =  2\n",
      "LOCATION =  AUSTRALIA\n",
      "LATITUDE =  5763.98\n",
      "LONGITUDE =  7652.32 \n",
      "\n",
      "ID =  3\n",
      "LOCATION =  JAPAN\n",
      "LATITUDE =  564.8\n",
      "LONGITUDE =  3980.6 \n",
      "\n"
     ]
    }
   ],
   "source": [
    "import sqlite3\n",
    "\n",
    "conn = sqlite3.connect('FILE.db')\n",
    "print(\"Opened database successfully\")\n",
    "\n",
    "conn.execute(\"INSERT INTO LAT_LONG (ID,LOCATION,LATITUDE,LONGITUDE) \\\n",
    "      VALUES (1, 'INDIA', 100.98, 8992.3 )\");\n",
    "\n",
    "conn.execute(\"INSERT INTO LAT_LONG (ID,LOCATION,LATITUDE,LONGITUDE) \\\n",
    "      VALUES (2, 'AUSTRALIA', 5763.98, 7652.32 )\");\n",
    "\n",
    "conn.execute(\"INSERT INTO LAT_LONG (ID,LOCATION,LATITUDE,LONGITUDE) \\\n",
    "      VALUES (3, 'JAPAN', 564.8, 3980.6 )\");\n",
    "\n",
    "conn.commit()\n",
    "print(\"Records created successfully\")\n",
    "cursor=conn.execute(\"SELECT id,location,latitude,longitude from LAT_LONG\")\n",
    "for row in cursor:\n",
    "    print(\"ID = \", row[0])\n",
    "    print(\"LOCATION = \", row[1])\n",
    "    print(\"LATITUDE = \", row[2])\n",
    "    print(\"LONGITUDE = \", row[3], \"\\n\")\n",
    "conn.close()"
   ]
  },
  {
   "cell_type": "code",
   "execution_count": null,
   "metadata": {},
   "outputs": [],
   "source": []
  }
 ],
 "metadata": {
  "kernelspec": {
   "display_name": "Python 3",
   "language": "python",
   "name": "python3"
  },
  "language_info": {
   "codemirror_mode": {
    "name": "ipython",
    "version": 3
   },
   "file_extension": ".py",
   "mimetype": "text/x-python",
   "name": "python",
   "nbconvert_exporter": "python",
   "pygments_lexer": "ipython3",
   "version": "3.8.5"
  }
 },
 "nbformat": 4,
 "nbformat_minor": 4
}
